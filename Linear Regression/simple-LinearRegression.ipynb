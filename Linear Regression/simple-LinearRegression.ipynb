{
 "cells": [
  {
   "cell_type": "code",
   "execution_count": 1,
   "metadata": {},
   "outputs": [],
   "source": [
    "#importing the required libraries\n",
    "import pandas as pd\n",
    "import numpy as np\n",
    "import matplotlib.pyplot as plt\n",
    "%matplotlib inline"
   ]
  },
  {
   "cell_type": "code",
   "execution_count": 2,
   "metadata": {},
   "outputs": [],
   "source": [
    "#reading the dataset using pandas\n",
    "dataset=pd.read_csv('Salary_Data.csv')"
   ]
  },
  {
   "cell_type": "code",
   "execution_count": 3,
   "metadata": {},
   "outputs": [
    {
     "data": {
      "text/html": [
       "<div>\n",
       "<style scoped>\n",
       "    .dataframe tbody tr th:only-of-type {\n",
       "        vertical-align: middle;\n",
       "    }\n",
       "\n",
       "    .dataframe tbody tr th {\n",
       "        vertical-align: top;\n",
       "    }\n",
       "\n",
       "    .dataframe thead th {\n",
       "        text-align: right;\n",
       "    }\n",
       "</style>\n",
       "<table border=\"1\" class=\"dataframe\">\n",
       "  <thead>\n",
       "    <tr style=\"text-align: right;\">\n",
       "      <th></th>\n",
       "      <th>YearsExperience</th>\n",
       "      <th>Salary</th>\n",
       "    </tr>\n",
       "  </thead>\n",
       "  <tbody>\n",
       "    <tr>\n",
       "      <th>0</th>\n",
       "      <td>1</td>\n",
       "      <td>25000</td>\n",
       "    </tr>\n",
       "    <tr>\n",
       "      <th>1</th>\n",
       "      <td>2</td>\n",
       "      <td>30000</td>\n",
       "    </tr>\n",
       "    <tr>\n",
       "      <th>2</th>\n",
       "      <td>3</td>\n",
       "      <td>32000</td>\n",
       "    </tr>\n",
       "    <tr>\n",
       "      <th>3</th>\n",
       "      <td>4</td>\n",
       "      <td>35000</td>\n",
       "    </tr>\n",
       "    <tr>\n",
       "      <th>4</th>\n",
       "      <td>5</td>\n",
       "      <td>38000</td>\n",
       "    </tr>\n",
       "  </tbody>\n",
       "</table>\n",
       "</div>"
      ],
      "text/plain": [
       "   YearsExperience  Salary\n",
       "0                1   25000\n",
       "1                2   30000\n",
       "2                3   32000\n",
       "3                4   35000\n",
       "4                5   38000"
      ]
     },
     "execution_count": 3,
     "metadata": {},
     "output_type": "execute_result"
    }
   ],
   "source": [
    "#Displaying the top 5 values of dataset\n",
    "dataset.head()"
   ]
  },
  {
   "cell_type": "code",
   "execution_count": 4,
   "metadata": {},
   "outputs": [
    {
     "data": {
      "text/html": [
       "<div>\n",
       "<style scoped>\n",
       "    .dataframe tbody tr th:only-of-type {\n",
       "        vertical-align: middle;\n",
       "    }\n",
       "\n",
       "    .dataframe tbody tr th {\n",
       "        vertical-align: top;\n",
       "    }\n",
       "\n",
       "    .dataframe thead th {\n",
       "        text-align: right;\n",
       "    }\n",
       "</style>\n",
       "<table border=\"1\" class=\"dataframe\">\n",
       "  <thead>\n",
       "    <tr style=\"text-align: right;\">\n",
       "      <th></th>\n",
       "      <th>YearsExperience</th>\n",
       "      <th>Salary</th>\n",
       "    </tr>\n",
       "  </thead>\n",
       "  <tbody>\n",
       "    <tr>\n",
       "      <th>count</th>\n",
       "      <td>15.000000</td>\n",
       "      <td>15.000000</td>\n",
       "    </tr>\n",
       "    <tr>\n",
       "      <th>mean</th>\n",
       "      <td>8.000000</td>\n",
       "      <td>51600.000000</td>\n",
       "    </tr>\n",
       "    <tr>\n",
       "      <th>std</th>\n",
       "      <td>4.472136</td>\n",
       "      <td>21259.619671</td>\n",
       "    </tr>\n",
       "    <tr>\n",
       "      <th>min</th>\n",
       "      <td>1.000000</td>\n",
       "      <td>25000.000000</td>\n",
       "    </tr>\n",
       "    <tr>\n",
       "      <th>25%</th>\n",
       "      <td>4.500000</td>\n",
       "      <td>36500.000000</td>\n",
       "    </tr>\n",
       "    <tr>\n",
       "      <th>50%</th>\n",
       "      <td>8.000000</td>\n",
       "      <td>45000.000000</td>\n",
       "    </tr>\n",
       "    <tr>\n",
       "      <th>75%</th>\n",
       "      <td>11.500000</td>\n",
       "      <td>67500.000000</td>\n",
       "    </tr>\n",
       "    <tr>\n",
       "      <th>max</th>\n",
       "      <td>15.000000</td>\n",
       "      <td>90000.000000</td>\n",
       "    </tr>\n",
       "  </tbody>\n",
       "</table>\n",
       "</div>"
      ],
      "text/plain": [
       "       YearsExperience        Salary\n",
       "count        15.000000     15.000000\n",
       "mean          8.000000  51600.000000\n",
       "std           4.472136  21259.619671\n",
       "min           1.000000  25000.000000\n",
       "25%           4.500000  36500.000000\n",
       "50%           8.000000  45000.000000\n",
       "75%          11.500000  67500.000000\n",
       "max          15.000000  90000.000000"
      ]
     },
     "execution_count": 4,
     "metadata": {},
     "output_type": "execute_result"
    }
   ],
   "source": [
    "#Describing the various statistical concepts\n",
    "dataset.describe()"
   ]
  },
  {
   "cell_type": "code",
   "execution_count": 5,
   "metadata": {},
   "outputs": [
    {
     "data": {
      "text/plain": [
       "YearsExperience    0\n",
       "Salary             0\n",
       "dtype: int64"
      ]
     },
     "execution_count": 5,
     "metadata": {},
     "output_type": "execute_result"
    }
   ],
   "source": [
    "#Analyzing if there is any null value in our dataset or not\n",
    "dataset.isnull().sum()"
   ]
  },
  {
   "cell_type": "code",
   "execution_count": 6,
   "metadata": {},
   "outputs": [
    {
     "data": {
      "text/plain": [
       "<matplotlib.collections.PathCollection at 0x1f45d08bdc0>"
      ]
     },
     "execution_count": 6,
     "metadata": {},
     "output_type": "execute_result"
    },
    {
     "data": {
      "image/png": "[encoded data removed]",
      "text/plain": [
       "<Figure size 432x288 with 1 Axes>"
      ]
     },
     "metadata": {
      "needs_background": "light"
     },
     "output_type": "display_data"
    }
   ],
   "source": [
    "#Plotting the reltionship between dependent and indipendent variables \n",
    "plt.scatter(x='YearsExperience' ,y='Salary',data=dataset)"
   ]
  },
  {
   "cell_type": "code",
   "execution_count": 7,
   "metadata": {},
   "outputs": [
    {
     "name": "stdout",
     "output_type": "stream",
     "text": [
      "    YearsExperience  Salary\n",
      "0                 1   25000\n",
      "1                 2   30000\n",
      "2                 3   32000\n",
      "3                 4   35000\n",
      "4                 5   38000\n",
      "5                 6   40000\n",
      "6                 7   42000\n",
      "7                 8   45000\n",
      "8                 9   47000\n",
      "9                10   50000\n",
      "10               11   60000\n",
      "11               12   75000\n",
      "12               13   80000\n",
      "13               14   85000\n",
      "14               15   90000\n",
      "[[ 1]\n",
      " [ 2]\n",
      " [ 3]\n",
      " [ 4]\n",
      " [ 5]\n",
      " [ 6]\n",
      " [ 7]\n",
      " [ 8]\n",
      " [ 9]\n",
      " [10]\n",
      " [11]\n",
      " [12]\n",
      " [13]\n",
      " [14]\n",
      " [15]]\n",
      "[[25000]\n",
      " [30000]\n",
      " [32000]\n",
      " [35000]\n",
      " [38000]\n",
      " [40000]\n",
      " [42000]\n",
      " [45000]\n",
      " [47000]\n",
      " [50000]\n",
      " [60000]\n",
      " [75000]\n",
      " [80000]\n",
      " [85000]\n",
      " [90000]]\n"
     ]
    }
   ],
   "source": [
    "#using indexing to select the dependent and indipendent variable of our dataset\n",
    "X=dataset.iloc[:,[0]].values\n",
    "y=dataset.iloc[:,[1]].values\n",
    "print(dataset)\n",
    "print(X)\n",
    "print(y)"
   ]
  },
  {
   "cell_type": "code",
   "execution_count": 8,
   "metadata": {},
   "outputs": [
    {
     "data": {
      "text/html": [
       "<div>\n",
       "<style scoped>\n",
       "    .dataframe tbody tr th:only-of-type {\n",
       "        vertical-align: middle;\n",
       "    }\n",
       "\n",
       "    .dataframe tbody tr th {\n",
       "        vertical-align: top;\n",
       "    }\n",
       "\n",
       "    .dataframe thead th {\n",
       "        text-align: right;\n",
       "    }\n",
       "</style>\n",
       "<table border=\"1\" class=\"dataframe\">\n",
       "  <thead>\n",
       "    <tr style=\"text-align: right;\">\n",
       "      <th></th>\n",
       "      <th>YearsExperience</th>\n",
       "      <th>Salary</th>\n",
       "    </tr>\n",
       "  </thead>\n",
       "  <tbody>\n",
       "    <tr>\n",
       "      <th>0</th>\n",
       "      <td>1</td>\n",
       "      <td>25000</td>\n",
       "    </tr>\n",
       "    <tr>\n",
       "      <th>1</th>\n",
       "      <td>2</td>\n",
       "      <td>30000</td>\n",
       "    </tr>\n",
       "  </tbody>\n",
       "</table>\n",
       "</div>"
      ],
      "text/plain": [
       "   YearsExperience  Salary\n",
       "0                1   25000\n",
       "1                2   30000"
      ]
     },
     "execution_count": 8,
     "metadata": {},
     "output_type": "execute_result"
    }
   ],
   "source": [
    "dataset.head(2)"
   ]
  },
  {
   "cell_type": "code",
   "execution_count": 9,
   "metadata": {},
   "outputs": [],
   "source": [
    "#Mean of X and Y\n",
    "mean_x=np.mean(X)\n",
    "mean_y=np.mean(y)"
   ]
  },
  {
   "cell_type": "code",
   "execution_count": 10,
   "metadata": {},
   "outputs": [],
   "source": [
    "#Total number of values\n",
    "n=len(X)"
   ]
  },
  {
   "cell_type": "code",
   "execution_count": 11,
   "metadata": {},
   "outputs": [],
   "source": [
    "#using the formula to calculate m and c\n",
    "numer=0\n",
    "denom=0\n",
    "for i in range(n):\n",
    "    numer+=(X[i] - mean_x) * (y[i]- mean_y)\n",
    "    denom+=(X[i]-mean_x)**2\n",
    "m=numer/denom\n",
    "c=mean_y- (m*mean_x)"
   ]
  },
  {
   "cell_type": "code",
   "execution_count": 12,
   "metadata": {},
   "outputs": [
    {
     "name": "stdout",
     "output_type": "stream",
     "text": [
      "[4557.14285714] [15142.85714286]\n"
     ]
    }
   ],
   "source": [
    "print(m,c)"
   ]
  },
  {
   "cell_type": "code",
   "execution_count": 14,
   "metadata": {},
   "outputs": [
    {
     "data": {
      "image/png": "[encoded data removed]",
      "text/plain": [
       "<Figure size 432x288 with 1 Axes>"
      ]
     },
     "metadata": {
      "needs_background": "light"
     },
     "output_type": "display_data"
    }
   ],
   "source": [
    "#plot the actual data points of training set\n",
    "plt.scatter(X,y,color='red')\n",
    "y=m*X+c\n",
    "plt.plot(X,y,color='blue')\n",
    "plt.title(\"Salary vs Experience\")\n",
    "plt.xlabel(\"Years of experience\")#indipendent variable\n",
    "plt.ylabel(\"Salary\")#dependent variable\n",
    "plt.show()"
   ]
  },
  {
   "cell_type": "code",
   "execution_count": 16,
   "metadata": {},
   "outputs": [
    {
     "name": "stdout",
     "output_type": "stream",
     "text": [
      "[[ 5]\n",
      " [ 3]\n",
      " [14]\n",
      " [11]\n",
      " [ 8]\n",
      " [12]\n",
      " [ 4]\n",
      " [ 1]\n",
      " [ 6]\n",
      " [13]]\n",
      "[[ 2]\n",
      " [ 7]\n",
      " [ 9]\n",
      " [10]\n",
      " [15]]\n",
      "[[37928.57142857]\n",
      " [28814.28571429]\n",
      " [78942.85714286]\n",
      " [65271.42857143]\n",
      " [51600.        ]\n",
      " [69828.57142857]\n",
      " [33371.42857143]\n",
      " [19700.        ]\n",
      " [42485.71428571]\n",
      " [74385.71428571]]\n",
      "[[24257.14285714]\n",
      " [47042.85714286]\n",
      " [56157.14285714]\n",
      " [60714.28571429]\n",
      " [83500.        ]]\n"
     ]
    }
   ],
   "source": [
    "#split the data into training and testing data\n",
    "from sklearn.model_selection import train_test_split\n",
    "X_train,X_test, y_train, y_test = train_test_split(X,y,test_size=1/3,random_state=0)\n",
    "#test data=1/3\n",
    "#train data=2/3\n",
    "# print(\"X- training data\")\n",
    "print(X_train)\n",
    "# print(\"X- testing data\")\n",
    "print(X_test)\n",
    "# print(\"y- training data\")\n",
    "print(y_train)\n",
    "# print(\"y- testing data\")\n",
    "print(y_test)"
   ]
  },
  {
   "cell_type": "code",
   "execution_count": 19,
   "metadata": {},
   "outputs": [
    {
     "data": {
      "text/plain": [
       "(10, 1)"
      ]
     },
     "execution_count": 19,
     "metadata": {},
     "output_type": "execute_result"
    }
   ],
   "source": [
    "X_train.shape"
   ]
  },
  {
   "cell_type": "code",
   "execution_count": 21,
   "metadata": {},
   "outputs": [
    {
     "data": {
      "text/plain": [
       "(10, 1)"
      ]
     },
     "execution_count": 21,
     "metadata": {},
     "output_type": "execute_result"
    }
   ],
   "source": [
    "y_train.shape"
   ]
  },
  {
   "cell_type": "code",
   "execution_count": 23,
   "metadata": {},
   "outputs": [
    {
     "data": {
      "text/plain": [
       "LinearRegression()"
      ]
     },
     "execution_count": 23,
     "metadata": {},
     "output_type": "execute_result"
    }
   ],
   "source": [
    "#Fit simple Linear Regression to Training data\n",
    "from sklearn.linear_model import LinearRegression\n",
    "regressor=LinearRegression()#Creating object for Linear Regression\n",
    "regressor.fit(X_train, y_train)#Fitting the model by training data"
   ]
  },
  {
   "cell_type": "code",
   "execution_count": 25,
   "metadata": {},
   "outputs": [],
   "source": [
    "#Make prediction\n",
    "y_pred=regressor.predict(X_test)\n",
    "#We need to pass the testing data for prediction purpose\n",
    "#x_test= year value from the testing data\n",
    "#y_pred=this will predict the salary according to the year"
   ]
  },
  {
   "cell_type": "code",
   "execution_count": 26,
   "metadata": {},
   "outputs": [
    {
     "data": {
      "image/png": "[encoded data removed]",
      "text/plain": [
       "<Figure size 432x288 with 1 Axes>"
      ]
     },
     "metadata": {
      "needs_background": "light"
     },
     "output_type": "display_data"
    }
   ],
   "source": [
    "#Visulaizing the training set results\n",
    "#plot the actual data points of training set\n",
    "plt.scatter(X_train,y_train,color='red')\n",
    "#plot the regression line\n",
    "plt.plot(X_train,regressor.predict(X_train), color='blue')\n",
    "plt.title(\"Salary vs Expence (Training set)\")\n",
    "plt.xlabel(\"Years of Experience\")\n",
    "plt.ylabel(\"Salary\")\n",
    "plt.show()"
   ]
  },
  {
   "cell_type": "code",
   "execution_count": 27,
   "metadata": {},
   "outputs": [
    {
     "data": {
      "image/png": "[encoded data removed]",
      "text/plain": [
       "<Figure size 432x288 with 1 Axes>"
      ]
     },
     "metadata": {
      "needs_background": "light"
     },
     "output_type": "display_data"
    }
   ],
   "source": [
    "# plot the actual data points of test set\n",
    "plt.scatter(X_test, y_test, color = 'red')\n",
    "# plot the regression line (same as above)\n",
    "plt.plot(X_test, regressor.predict(X_test), color='blue')\n",
    "plt.title('Salary vs Experience (Test set)')\n",
    "plt.xlabel('Years of Experience')\n",
    "plt.ylabel('Salary')\n",
    "plt.show()"
   ]
  },
  {
   "cell_type": "code",
   "execution_count": 28,
   "metadata": {},
   "outputs": [
    {
     "name": "stdout",
     "output_type": "stream",
     "text": [
      "The predicted value of a person with 15 years experience is  [[106285.71428571]]\n"
     ]
    }
   ],
   "source": [
    "#Making new prediction\n",
    "new_salary_pred= regressor.predict([[20]])\n",
    "print('The predicted value of a person with 15 years experience is ', new_salary_pred)"
   ]
  },
  {
   "cell_type": "code",
   "execution_count": 29,
   "metadata": {},
   "outputs": [
    {
     "name": "stdout",
     "output_type": "stream",
     "text": [
      "Slope [[4557.14285714]]\n",
      "Intercept [15142.85714286]\n"
     ]
    }
   ],
   "source": [
    "#printing values of slope and intercept\n",
    "print('Slope', regressor.coef_)\n",
    "print(\"Intercept\", regressor.intercept_)"
   ]
  },
  {
   "cell_type": "code",
   "execution_count": 30,
   "metadata": {},
   "outputs": [
    {
     "name": "stdout",
     "output_type": "stream",
     "text": [
      "MSE: 6.617444900424221e-23\n",
      "MAE: 5.093170329928398e-12\n",
      "RMSE: 8.134767913360665e-12\n"
     ]
    }
   ],
   "source": [
    "#Finding residuals\n",
    "from sklearn import metrics\n",
    "print ('MSE:',metrics.mean_squared_error(y_test,y_pred))\n",
    "print ('MAE:',metrics.mean_absolute_error(y_test,y_pred))\n",
    "print ('RMSE:',np.sqrt(metrics.mean_squared_error(y_test,y_pred)))"
   ]
  },
  {
   "cell_type": "code",
   "execution_count": null,
   "metadata": {},
   "outputs": [],
   "source": []
  }
 ],
 "metadata": {
  "kernelspec": {
   "display_name": "Python 3",
   "language": "python",
   "name": "python3"
  },
  "language_info": {
   "codemirror_mode": {
    "name": "ipython",
    "version": 3
   },
   "file_extension": ".py",
   "mimetype": "text/x-python",
   "name": "python",
   "nbconvert_exporter": "python",
   "pygments_lexer": "ipython3",
   "version": "3.8.5"
  }
 },
 "nbformat": 4,
 "nbformat_minor": 4
}
